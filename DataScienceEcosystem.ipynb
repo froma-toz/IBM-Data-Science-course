{
 "cells": [
  {
   "cell_type": "markdown",
   "id": "70fafad9-9bd3-4a01-9248-ab8d03ef71d5",
   "metadata": {},
   "source": [
    "# Data Science Tools and Ecosystem"
   ]
  },
  {
   "cell_type": "markdown",
   "id": "863147fe-dfd9-4db7-84de-98086a69ee8e",
   "metadata": {},
   "source": [
    "In this notebook, Data Science Tools and Ecosystem are summarized."
   ]
  },
  {
   "cell_type": "markdown",
   "id": "67ba6076-d2ad-4204-b7de-e250aae17b58",
   "metadata": {},
   "source": [
    "**Objectives:**\n",
    "- list popular languages for Data Science\n",
    "- list popular libraries for Data Science\n",
    "- create a table of popular data science tools\n",
    "- write a code with an arithmetic expression\n",
    "- write a code converting minutes to hours"
   ]
  },
  {
   "cell_type": "markdown",
   "id": "06435cee-bc3d-4e67-ba48-dde322563f56",
   "metadata": {},
   "source": [
    "Some of the popular languages that Data Scientists use are:\n",
    "1. Python\n",
    "2. R\n",
    "3. C++"
   ]
  },
  {
   "cell_type": "markdown",
   "id": "ee0f23b3-8233-4d1f-80c4-b07c969d2e68",
   "metadata": {},
   "source": [
    "Some of the commonly used libraries used by Data Scientists include:\n",
    "1. pandas\n",
    "2. matplotlib\n",
    "3. tensorflow"
   ]
  },
  {
   "cell_type": "markdown",
   "id": "ae359a3a-0f44-41e2-b0bd-949419f887bd",
   "metadata": {},
   "source": [
    "|Data Science Tools|\n",
    "|------------------|\n",
    "| VS code          |\n",
    "|Jupyter           |\n",
    "|RStudio           |"
   ]
  },
  {
   "cell_type": "markdown",
   "id": "bb941515-8492-471c-89a7-bcbe6653795a",
   "metadata": {},
   "source": [
    "### Below are a few examples of evaluating arithmetic expressions in Python"
   ]
  },
  {
   "cell_type": "code",
   "execution_count": 1,
   "id": "689086d9-b943-4f68-91de-3dc343a5413c",
   "metadata": {},
   "outputs": [
    {
     "data": {
      "text/plain": [
       "17"
      ]
     },
     "execution_count": 1,
     "metadata": {},
     "output_type": "execute_result"
    }
   ],
   "source": [
    "# This is a simple arithmetic expression to multiply then add integers\n",
    "(3*4)+5"
   ]
  },
  {
   "cell_type": "code",
   "execution_count": 5,
   "id": "26300bea-86e5-4d46-9f31-1ae30ef98456",
   "metadata": {},
   "outputs": [
    {
     "data": {
      "text/plain": [
       "3"
      ]
     },
     "execution_count": 5,
     "metadata": {},
     "output_type": "execute_result"
    }
   ],
   "source": [
    "# This will convert 200 minutes to hours by dividing by 60\n",
    "200//60"
   ]
  },
  {
   "cell_type": "markdown",
   "id": "4ad94d2e-de49-44e9-aa3e-8a9736116732",
   "metadata": {},
   "source": [
    "## Author\n",
    "Aurora Zhou"
   ]
  }
 ],
 "metadata": {
  "kernelspec": {
   "display_name": "Python 3 (ipykernel)",
   "language": "python",
   "name": "python3"
  },
  "language_info": {
   "codemirror_mode": {
    "name": "ipython",
    "version": 3
   },
   "file_extension": ".py",
   "mimetype": "text/x-python",
   "name": "python",
   "nbconvert_exporter": "python",
   "pygments_lexer": "ipython3",
   "version": "3.12.8"
  }
 },
 "nbformat": 4,
 "nbformat_minor": 5
}
